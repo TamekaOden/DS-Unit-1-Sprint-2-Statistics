{
  "nbformat": 4,
  "nbformat_minor": 0,
  "metadata": {
    "kernelspec": {
      "display_name": "Python 3",
      "language": "python",
      "name": "python3"
    },
    "language_info": {
      "codemirror_mode": {
        "name": "ipython",
        "version": 3
      },
      "file_extension": ".py",
      "mimetype": "text/x-python",
      "name": "python",
      "nbconvert_exporter": "python",
      "pygments_lexer": "ipython3",
      "version": "3.7.3"
    },
    "colab": {
      "name": "Tameka_Oden_LS_DS_121_Statistics_Probability_Assignment.ipynb",
      "provenance": [],
      "include_colab_link": true
    }
  },
  "cells": [
    {
      "cell_type": "markdown",
      "metadata": {
        "id": "view-in-github",
        "colab_type": "text"
      },
      "source": [
        "<a href=\"https://colab.research.google.com/github/TamekaOden/DS-Unit-1-Sprint-2-Statistics/blob/master/Tameka_Oden_LS_DS_121_Statistics_Probability_Assignment.ipynb\" target=\"_parent\"><img src=\"https://colab.research.google.com/assets/colab-badge.svg\" alt=\"Open In Colab\"/></a>"
      ]
    },
    {
      "cell_type": "markdown",
      "metadata": {
        "id": "Sa5KWMO1ngPN",
        "colab_type": "text"
      },
      "source": [
        "<img align=\"left\" src=\"https://lever-client-logos.s3.amazonaws.com/864372b1-534c-480e-acd5-9711f850815c-1524247202159.png\" width=200>\n",
        "<br></br>\n",
        "<br></br>\n",
        "\n",
        "## *Data Science Unit 1 Sprint 2 Assignment 1*\n",
        "\n",
        "# Apply the t-test to real data\n",
        "\n",
        "Your assignment is to determine which issues have \"statistically significant\" differences between political parties in this [1980s congressional voting data](https://archive.ics.uci.edu/ml/datasets/Congressional+Voting+Records). The data consists of 435 instances (one for each congressperson), a class (democrat or republican), and 16 binary attributes (yes or no for voting for or against certain issues). Be aware - there are missing values!\n",
        "\n",
        "Your goals:\n",
        "\n",
        "1. Load and clean the data (or determine the best method to drop observations when running tests)\n",
        "2. Using hypothesis testing, find an issue that democrats support more than republicans with p < 0.01\n",
        "3. Using hypothesis testing, find an issue that republicans support more than democrats with p < 0.01\n",
        "4. Using hypothesis testing, find an issue where the difference between republicans and democrats has p > 0.1 (i.e. there may not be much of a difference)\n",
        "\n",
        "Note that this data will involve *2 sample* t-tests, because you're comparing averages across two groups (republicans and democrats) rather than a single group against a null hypothesis.\n",
        "\n",
        "Stretch goals:\n",
        "\n",
        "1. Refactor your code into functions so it's easy to rerun with arbitrary variables\n",
        "2. Apply hypothesis testing to your personal project data (for the purposes of this notebook you can type a summary of the hypothesis you formed and tested)"
      ]
    },
    {
      "cell_type": "code",
      "metadata": {
        "colab_type": "code",
        "id": "mob7pg552mqz",
        "colab": {}
      },
      "source": [
        "https://archive.ics.uci.edu/ml/machine-learning-databases/voting-records/house-votes-84.data"
      ],
      "execution_count": 0,
      "outputs": []
    },
    {
      "cell_type": "code",
      "metadata": {
        "colab_type": "code",
        "id": "iR6Za7RG2mq6",
        "colab": {}
      },
      "source": [
        "votes_url = 'https://archive.ics.uci.edu/ml/machine-learning-databases/voting-records/house-votes-84.data'"
      ],
      "execution_count": 0,
      "outputs": []
    },
    {
      "cell_type": "code",
      "metadata": {
        "colab_type": "code",
        "id": "3tM09iTZ2mq8",
        "colab": {}
      },
      "source": [
        "df= pd.read_csv(votes_url)"
      ],
      "execution_count": 0,
      "outputs": []
    },
    {
      "cell_type": "code",
      "metadata": {
        "id": "ifO-8rUPws7b",
        "colab_type": "code",
        "outputId": "1144c8e7-be3c-409c-a10f-82fb3c266ab8",
        "colab": {
          "base_uri": "https://localhost:8080/",
          "height": 212
        }
      },
      "source": [
        "!wget https://archive.ics.uci.edu/ml/machine-learning-databases/voting-records/house-votes-84.data"
      ],
      "execution_count": 0,
      "outputs": [
        {
          "output_type": "stream",
          "text": [
            "--2019-11-17 05:19:42--  https://archive.ics.uci.edu/ml/machine-learning-databases/voting-records/house-votes-84.data\n",
            "Resolving archive.ics.uci.edu (archive.ics.uci.edu)... 128.195.10.252\n",
            "Connecting to archive.ics.uci.edu (archive.ics.uci.edu)|128.195.10.252|:443... connected.\n",
            "HTTP request sent, awaiting response... 200 OK\n",
            "Length: 18171 (18K) [application/x-httpd-php]\n",
            "Saving to: ‘house-votes-84.data’\n",
            "\n",
            "house-votes-84.data 100%[===================>]  17.75K  --.-KB/s    in 0.06s   \n",
            "\n",
            "2019-11-17 05:19:42 (279 KB/s) - ‘house-votes-84.data’ saved [18171/18171]\n",
            "\n"
          ],
          "name": "stdout"
        }
      ]
    },
    {
      "cell_type": "code",
      "metadata": {
        "id": "YAAi2Yjw4yJC",
        "colab_type": "code",
        "colab": {}
      },
      "source": [
        "votes.filna()"
      ],
      "execution_count": 0,
      "outputs": []
    },
    {
      "cell_type": "code",
      "metadata": {
        "colab_type": "code",
        "id": "3W6tJlqK2mrF",
        "colab": {}
      },
      "source": [
        "df.count()\n",
        "\n",
        "\n"
      ],
      "execution_count": 0,
      "outputs": []
    },
    {
      "cell_type": "code",
      "metadata": {
        "colab_type": "code",
        "id": "W4cRjZvX2mrI",
        "colab": {}
      },
      "source": [
        "# make into a dataframe\n",
        "column_headers = ['party','handicapped-infants','water-project',\n",
        "                          'budget','physician-fee-freeze', 'el-salvador-aid',\n",
        "                          'religious-groups','anti-satellite-ban',\n",
        "                          'aid-to-contras','mx-missile','immigration',\n",
        "                          'synfuels', 'education', 'right-to-sue','crime','duty-free',\n",
        "                          'south-africa']\n",
        "votes = pd.read_csv('house-votes-84.data', header=None, names=column_headers, na_values='?')\n",
        "\n",
        "votes.head()\n"
      ],
      "execution_count": 0,
      "outputs": []
    },
    {
      "cell_type": "code",
      "metadata": {
        "id": "C9NHCBvozttU",
        "colab_type": "code",
        "colab": {}
      },
      "source": [
        "df = df.replace({'y':1, 'n':0})\n",
        "df.head(2)"
      ],
      "execution_count": 0,
      "outputs": []
    },
    {
      "cell_type": "code",
      "metadata": {
        "id": "Zje72FZMTHLE",
        "colab_type": "code",
        "outputId": "8a859fe6-b971-40d6-96ea-e3162cb0f464",
        "colab": {
          "base_uri": "https://localhost:8080/",
          "height": 70
        }
      },
      "source": [
        "print(votes.columns)"
      ],
      "execution_count": 0,
      "outputs": [
        {
          "output_type": "stream",
          "text": [
            "Index(['republican', 'n', 'y', 'n.1', 'y.1', 'y.2', 'y.3', 'n.2', 'n.3', 'n.4',\n",
            "       'y.4', '?', 'y.5', 'y.6', 'y.7', 'n.5', 'y.8'],\n",
            "      dtype='object')\n"
          ],
          "name": "stdout"
        }
      ]
    },
    {
      "cell_type": "code",
      "metadata": {
        "id": "DdpM4kBMVBL7",
        "colab_type": "code",
        "outputId": "d14a03a6-0261-45f8-cccc-c578dfca4c31",
        "colab": {
          "base_uri": "https://localhost:8080/",
          "height": 265
        }
      },
      "source": [
        "print(votes)"
      ],
      "execution_count": 0,
      "outputs": [
        {
          "output_type": "stream",
          "text": [
            "     republican  n  y n.1 y.1 y.2 y.3 n.2 n.3 n.4 y.4  ? y.5 y.6 y.7 n.5 y.8\n",
            "0    republican  n  y   n   y   y   y   n   n   n   n  n   y   y   y   n   ?\n",
            "1      democrat  ?  y   y   ?   y   y   n   n   n   n  y   n   y   y   n   n\n",
            "2      democrat  n  y   y   n   ?   y   n   n   n   n  y   n   y   n   n   y\n",
            "3      democrat  y  y   y   n   y   y   n   n   n   n  y   ?   y   y   y   y\n",
            "4      democrat  n  y   y   n   y   y   n   n   n   n  n   n   y   y   y   y\n",
            "..          ... .. ..  ..  ..  ..  ..  ..  ..  ..  .. ..  ..  ..  ..  ..  ..\n",
            "429  republican  n  n   y   y   y   y   n   n   y   y  n   y   y   y   n   y\n",
            "430    democrat  n  n   y   n   n   n   y   y   y   y  n   n   n   n   n   y\n",
            "431  republican  n  ?   n   y   y   y   n   n   n   n  y   y   y   y   n   y\n",
            "432  republican  n  n   n   y   y   y   ?   ?   ?   ?  n   y   y   y   n   y\n",
            "433  republican  n  y   n   y   y   y   n   n   n   y  n   y   y   y   ?   n\n",
            "\n",
            "[434 rows x 17 columns]\n"
          ],
          "name": "stdout"
        }
      ]
    },
    {
      "cell_type": "code",
      "metadata": {
        "id": "Eg1AdycqVBEW",
        "colab_type": "code",
        "outputId": "9aa4216c-7be3-4e81-8916-bdf64a920e1a",
        "colab": {
          "base_uri": "https://localhost:8080/",
          "height": 265
        }
      },
      "source": [
        "print(votes.head)"
      ],
      "execution_count": 0,
      "outputs": [
        {
          "output_type": "stream",
          "text": [
            "<bound method NDFrame.head of      republican  n  y n.1 y.1 y.2 y.3 n.2 n.3 n.4 y.4  ? y.5 y.6 y.7 n.5 y.8\n",
            "0    republican  n  y   n   y   y   y   n   n   n   n  n   y   y   y   n   ?\n",
            "1      democrat  ?  y   y   ?   y   y   n   n   n   n  y   n   y   y   n   n\n",
            "2      democrat  n  y   y   n   ?   y   n   n   n   n  y   n   y   n   n   y\n",
            "3      democrat  y  y   y   n   y   y   n   n   n   n  y   ?   y   y   y   y\n",
            "4      democrat  n  y   y   n   y   y   n   n   n   n  n   n   y   y   y   y\n",
            "..          ... .. ..  ..  ..  ..  ..  ..  ..  ..  .. ..  ..  ..  ..  ..  ..\n",
            "429  republican  n  n   y   y   y   y   n   n   y   y  n   y   y   y   n   y\n",
            "430    democrat  n  n   y   n   n   n   y   y   y   y  n   n   n   n   n   y\n",
            "431  republican  n  ?   n   y   y   y   n   n   n   n  y   y   y   y   n   y\n",
            "432  republican  n  n   n   y   y   y   ?   ?   ?   ?  n   y   y   y   n   y\n",
            "433  republican  n  y   n   y   y   y   n   n   n   y  n   y   y   y   ?   n\n",
            "\n",
            "[434 rows x 17 columns]>\n"
          ],
          "name": "stdout"
        }
      ]
    },
    {
      "cell_type": "code",
      "metadata": {
        "id": "ee89omczXe-_",
        "colab_type": "code",
        "outputId": "bc50a933-cd37-42b8-c919-f32f1c6c5c26",
        "colab": {
          "base_uri": "https://localhost:8080/",
          "height": 265
        }
      },
      "source": [
        "print(votes.describe)"
      ],
      "execution_count": 0,
      "outputs": [
        {
          "output_type": "stream",
          "text": [
            "<bound method NDFrame.describe of      republican  n  y n.1 y.1 y.2 y.3 n.2 n.3 n.4 y.4  ? y.5 y.6 y.7 n.5 y.8\n",
            "0    republican  n  y   n   y   y   y   n   n   n   n  n   y   y   y   n   ?\n",
            "1      democrat  ?  y   y   ?   y   y   n   n   n   n  y   n   y   y   n   n\n",
            "2      democrat  n  y   y   n   ?   y   n   n   n   n  y   n   y   n   n   y\n",
            "3      democrat  y  y   y   n   y   y   n   n   n   n  y   ?   y   y   y   y\n",
            "4      democrat  n  y   y   n   y   y   n   n   n   n  n   n   y   y   y   y\n",
            "..          ... .. ..  ..  ..  ..  ..  ..  ..  ..  .. ..  ..  ..  ..  ..  ..\n",
            "429  republican  n  n   y   y   y   y   n   n   y   y  n   y   y   y   n   y\n",
            "430    democrat  n  n   y   n   n   n   y   y   y   y  n   n   n   n   n   y\n",
            "431  republican  n  ?   n   y   y   y   n   n   n   n  y   y   y   y   n   y\n",
            "432  republican  n  n   n   y   y   y   ?   ?   ?   ?  n   y   y   y   n   y\n",
            "433  republican  n  y   n   y   y   y   n   n   n   y  n   y   y   y   ?   n\n",
            "\n",
            "[434 rows x 17 columns]>\n"
          ],
          "name": "stdout"
        }
      ]
    },
    {
      "cell_type": "code",
      "metadata": {
        "id": "cstmVLV6YTGR",
        "colab_type": "code",
        "outputId": "6971fe47-6f45-4668-a003-470446391654",
        "colab": {
          "base_uri": "https://localhost:8080/",
          "height": 265
        }
      },
      "source": [
        "print(votes.tail)"
      ],
      "execution_count": 0,
      "outputs": [
        {
          "output_type": "stream",
          "text": [
            "<bound method NDFrame.tail of      republican  n  y n.1 y.1 y.2 y.3 n.2 n.3 n.4 y.4  ? y.5 y.6 y.7 n.5 y.8\n",
            "0    republican  n  y   n   y   y   y   n   n   n   n  n   y   y   y   n   ?\n",
            "1      democrat  ?  y   y   ?   y   y   n   n   n   n  y   n   y   y   n   n\n",
            "2      democrat  n  y   y   n   ?   y   n   n   n   n  y   n   y   n   n   y\n",
            "3      democrat  y  y   y   n   y   y   n   n   n   n  y   ?   y   y   y   y\n",
            "4      democrat  n  y   y   n   y   y   n   n   n   n  n   n   y   y   y   y\n",
            "..          ... .. ..  ..  ..  ..  ..  ..  ..  ..  .. ..  ..  ..  ..  ..  ..\n",
            "429  republican  n  n   y   y   y   y   n   n   y   y  n   y   y   y   n   y\n",
            "430    democrat  n  n   y   n   n   n   y   y   y   y  n   n   n   n   n   y\n",
            "431  republican  n  ?   n   y   y   y   n   n   n   n  y   y   y   y   n   y\n",
            "432  republican  n  n   n   y   y   y   ?   ?   ?   ?  n   y   y   y   n   y\n",
            "433  republican  n  y   n   y   y   y   n   n   n   y  n   y   y   y   ?   n\n",
            "\n",
            "[434 rows x 17 columns]>\n"
          ],
          "name": "stdout"
        }
      ]
    },
    {
      "cell_type": "code",
      "metadata": {
        "id": "qxrMBbMEny7I",
        "colab_type": "code",
        "outputId": "fa290dd0-ce37-4d80-bbb3-575b8369b3a8",
        "colab": {
          "base_uri": "https://localhost:8080/",
          "height": 34
        }
      },
      "source": [
        "print"
      ],
      "execution_count": 0,
      "outputs": [
        {
          "output_type": "stream",
          "text": [
            "republicans\n"
          ],
          "name": "stdout"
        }
      ]
    },
    {
      "cell_type": "markdown",
      "metadata": {
        "id": "ehk24_dnm4yV",
        "colab_type": "text"
      },
      "source": [
        "rename header"
      ]
    },
    {
      "cell_type": "code",
      "metadata": {
        "id": "2wRxSjyAm_UK",
        "colab_type": "code",
        "colab": {}
      },
      "source": [
        "header_names{'party,'}"
      ],
      "execution_count": 0,
      "outputs": []
    },
    {
      "cell_type": "code",
      "metadata": {
        "id": "q2jh_BJ5qTjk",
        "colab_type": "code",
        "outputId": "42185417-a2ce-4490-d3ae-b9d372bcb877",
        "colab": {
          "base_uri": "https://localhost:8080/",
          "height": 69
        }
      },
      "source": [
        "# how many from each party?\n",
        "df['party'].value_counts()"
      ],
      "execution_count": 0,
      "outputs": [
        {
          "output_type": "execute_result",
          "data": {
            "text/plain": [
              "democrat      267\n",
              "republican    168\n",
              "Name: party, dtype: int64"
            ]
          },
          "metadata": {
            "tags": []
          },
          "execution_count": 47
        }
      ]
    },
    {
      "cell_type": "code",
      "metadata": {
        "id": "1HhrsAkSqTjm",
        "colab_type": "code",
        "outputId": "34e52f79-f732-4738-9bf9-6d6eb58b6447",
        "colab": {
          "base_uri": "https://localhost:8080/",
          "height": 35
        }
      },
      "source": [
        "# how did Republicans vote?\n",
        "rep = df[df['party']=='republican']\n",
        "len(rep)"
      ],
      "execution_count": 0,
      "outputs": [
        {
          "output_type": "execute_result",
          "data": {
            "text/plain": [
              "168"
            ]
          },
          "metadata": {
            "tags": []
          },
          "execution_count": 48
        }
      ]
    },
    {
      "cell_type": "code",
      "metadata": {
        "id": "QvCSYoIYqTjp",
        "colab_type": "code",
        "outputId": "95d1f7a1-88d9-460b-ad12-1e3e55c312a1",
        "colab": {
          "base_uri": "https://localhost:8080/",
          "height": 35
        }
      },
      "source": [
        "# how did Democrats vote?\n",
        "dem = df[df['party']=='democrat']\n",
        "len(dem)"
      ],
      "execution_count": 0,
      "outputs": [
        {
          "output_type": "execute_result",
          "data": {
            "text/plain": [
              "267"
            ]
          },
          "metadata": {
            "tags": []
          },
          "execution_count": 49
        }
      ]
    },
    {
      "cell_type": "code",
      "metadata": {
        "id": "U1JY3cCEiG5S",
        "colab_type": "code",
        "colab": {}
      },
      "source": [
        ""
      ],
      "execution_count": 0,
      "outputs": []
    }
  ]
}